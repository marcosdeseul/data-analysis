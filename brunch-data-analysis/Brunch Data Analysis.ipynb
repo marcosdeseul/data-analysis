{
 "cells": [
  {
   "cell_type": "markdown",
   "metadata": {},
   "source": [
    "# Brunch Data Analysis\n",
    "\n",
    "**Brunch** is one of the biggest blog platforms in South Korea. This study will investigate what factors made writers more famous and influential. \n",
    "\n",
    "- It is based on the data collected on 24 August 2017"
   ]
  },
  {
   "cell_type": "code",
   "execution_count": 1,
   "metadata": {},
   "outputs": [
    {
     "name": "stdout",
     "output_type": "stream",
     "text": [
      "Populating the interactive namespace from numpy and matplotlib\n"
     ]
    }
   ],
   "source": [
    "import pandas as pd\n",
    "import matplotlib\n",
    "%pylab inline"
   ]
  },
  {
   "cell_type": "code",
   "execution_count": 2,
   "metadata": {},
   "outputs": [],
   "source": [
    "from data_management import read_related_data, get_list_df_by_writers, \\\n",
    "                            get_article_df_by_writers, get_follower_df_by_writers, \\\n",
    "                            get_following_df_by_writers, parse_datetime"
   ]
  },
  {
   "cell_type": "code",
   "execution_count": 3,
   "metadata": {},
   "outputs": [],
   "source": [
    "df = read_related_data()"
   ]
  },
  {
   "cell_type": "markdown",
   "metadata": {},
   "source": [
    "## The writers who have 5000+ followers\n",
    "\n",
    "- The number of writers who are followed by over 5000 members is 162\n",
    "- The average of the number of followers is 7589\n",
    "- The average of writer count and article count are 150, 166, but the standard deviation is 767, 224\n",
    "- The writer who has the least articles wrote only 8 to get over 5000 followers\n",
    "- The impact of article count on follower count is not relevant "
   ]
  },
  {
   "cell_type": "code",
   "execution_count": 4,
   "metadata": {},
   "outputs": [
    {
     "data": {
      "text/plain": [
       "profile_id        26\n",
       "count             26\n",
       "user_id           26\n",
       "username          26\n",
       "follower_count    26\n",
       "writer_count      26\n",
       "article_count     26\n",
       "dtype: int64"
      ]
     },
     "execution_count": 4,
     "metadata": {},
     "output_type": "execute_result"
    }
   ],
   "source": [
    "top_df = df[df[\"follower_count\"] > 5000].sort_values(\"follower_count\", ascending=False).iloc[1:,]\n",
    "top_df[top_df[\"follower_count\"] > 10000].count()"
   ]
  },
  {
   "cell_type": "code",
   "execution_count": 5,
   "metadata": {},
   "outputs": [
    {
     "data": {
      "text/html": [
       "<div>\n",
       "<style>\n",
       "    .dataframe thead tr:only-child th {\n",
       "        text-align: right;\n",
       "    }\n",
       "\n",
       "    .dataframe thead th {\n",
       "        text-align: left;\n",
       "    }\n",
       "\n",
       "    .dataframe tbody tr th {\n",
       "        vertical-align: top;\n",
       "    }\n",
       "</style>\n",
       "<table border=\"1\" class=\"dataframe\">\n",
       "  <thead>\n",
       "    <tr style=\"text-align: right;\">\n",
       "      <th></th>\n",
       "      <th>count</th>\n",
       "      <th>follower_count</th>\n",
       "      <th>writer_count</th>\n",
       "      <th>article_count</th>\n",
       "    </tr>\n",
       "  </thead>\n",
       "  <tbody>\n",
       "    <tr>\n",
       "      <th>count</th>\n",
       "      <td>162.000000</td>\n",
       "      <td>162.00000</td>\n",
       "      <td>162.000000</td>\n",
       "      <td>162.000000</td>\n",
       "    </tr>\n",
       "    <tr>\n",
       "      <th>mean</th>\n",
       "      <td>456.475309</td>\n",
       "      <td>7589.04321</td>\n",
       "      <td>149.654321</td>\n",
       "      <td>165.944444</td>\n",
       "    </tr>\n",
       "    <tr>\n",
       "      <th>std</th>\n",
       "      <td>411.724192</td>\n",
       "      <td>2527.17562</td>\n",
       "      <td>767.096521</td>\n",
       "      <td>223.593277</td>\n",
       "    </tr>\n",
       "    <tr>\n",
       "      <th>min</th>\n",
       "      <td>71.000000</td>\n",
       "      <td>5010.00000</td>\n",
       "      <td>0.000000</td>\n",
       "      <td>8.000000</td>\n",
       "    </tr>\n",
       "    <tr>\n",
       "      <th>25%</th>\n",
       "      <td>297.250000</td>\n",
       "      <td>5752.00000</td>\n",
       "      <td>8.000000</td>\n",
       "      <td>55.250000</td>\n",
       "    </tr>\n",
       "    <tr>\n",
       "      <th>50%</th>\n",
       "      <td>404.500000</td>\n",
       "      <td>6818.00000</td>\n",
       "      <td>25.000000</td>\n",
       "      <td>113.500000</td>\n",
       "    </tr>\n",
       "    <tr>\n",
       "      <th>75%</th>\n",
       "      <td>525.000000</td>\n",
       "      <td>8573.25000</td>\n",
       "      <td>60.000000</td>\n",
       "      <td>189.750000</td>\n",
       "    </tr>\n",
       "    <tr>\n",
       "      <th>max</th>\n",
       "      <td>5009.000000</td>\n",
       "      <td>22154.00000</td>\n",
       "      <td>9084.000000</td>\n",
       "      <td>1747.000000</td>\n",
       "    </tr>\n",
       "  </tbody>\n",
       "</table>\n",
       "</div>"
      ],
      "text/plain": [
       "             count  follower_count  writer_count  article_count\n",
       "count   162.000000       162.00000    162.000000     162.000000\n",
       "mean    456.475309      7589.04321    149.654321     165.944444\n",
       "std     411.724192      2527.17562    767.096521     223.593277\n",
       "min      71.000000      5010.00000      0.000000       8.000000\n",
       "25%     297.250000      5752.00000      8.000000      55.250000\n",
       "50%     404.500000      6818.00000     25.000000     113.500000\n",
       "75%     525.000000      8573.25000     60.000000     189.750000\n",
       "max    5009.000000     22154.00000   9084.000000    1747.000000"
      ]
     },
     "execution_count": 5,
     "metadata": {},
     "output_type": "execute_result"
    }
   ],
   "source": [
    "top_df.describe()"
   ]
  },
  {
   "cell_type": "code",
   "execution_count": 6,
   "metadata": {},
   "outputs": [
    {
     "data": {
      "text/html": [
       "<div>\n",
       "<style>\n",
       "    .dataframe thead tr:only-child th {\n",
       "        text-align: right;\n",
       "    }\n",
       "\n",
       "    .dataframe thead th {\n",
       "        text-align: left;\n",
       "    }\n",
       "\n",
       "    .dataframe tbody tr th {\n",
       "        vertical-align: top;\n",
       "    }\n",
       "</style>\n",
       "<table border=\"1\" class=\"dataframe\">\n",
       "  <thead>\n",
       "    <tr style=\"text-align: right;\">\n",
       "      <th></th>\n",
       "      <th>profile_id</th>\n",
       "      <th>count</th>\n",
       "      <th>user_id</th>\n",
       "      <th>username</th>\n",
       "      <th>follower_count</th>\n",
       "      <th>writer_count</th>\n",
       "      <th>article_count</th>\n",
       "    </tr>\n",
       "  </thead>\n",
       "  <tbody>\n",
       "    <tr>\n",
       "      <th>552</th>\n",
       "      <td>thespringtocome</td>\n",
       "      <td>71</td>\n",
       "      <td>RqM</td>\n",
       "      <td>오늘</td>\n",
       "      <td>5692</td>\n",
       "      <td>1</td>\n",
       "      <td>8</td>\n",
       "    </tr>\n",
       "    <tr>\n",
       "      <th>1732</th>\n",
       "      <td>kimkwan</td>\n",
       "      <td>172</td>\n",
       "      <td>2zw</td>\n",
       "      <td>김관</td>\n",
       "      <td>6105</td>\n",
       "      <td>20</td>\n",
       "      <td>11</td>\n",
       "    </tr>\n",
       "    <tr>\n",
       "      <th>1218</th>\n",
       "      <td>yoonhanna</td>\n",
       "      <td>245</td>\n",
       "      <td>3u4</td>\n",
       "      <td>hanna</td>\n",
       "      <td>5023</td>\n",
       "      <td>63</td>\n",
       "      <td>12</td>\n",
       "    </tr>\n",
       "    <tr>\n",
       "      <th>544</th>\n",
       "      <td>2kija</td>\n",
       "      <td>437</td>\n",
       "      <td>6i4</td>\n",
       "      <td>이기주작가</td>\n",
       "      <td>7300</td>\n",
       "      <td>8</td>\n",
       "      <td>13</td>\n",
       "    </tr>\n",
       "    <tr>\n",
       "      <th>248</th>\n",
       "      <td>gzerof</td>\n",
       "      <td>369</td>\n",
       "      <td>xYA</td>\n",
       "      <td>홍준호</td>\n",
       "      <td>6086</td>\n",
       "      <td>51</td>\n",
       "      <td>14</td>\n",
       "    </tr>\n",
       "  </tbody>\n",
       "</table>\n",
       "</div>"
      ],
      "text/plain": [
       "           profile_id  count user_id username  follower_count  writer_count  \\\n",
       "552   thespringtocome     71     RqM       오늘            5692             1   \n",
       "1732          kimkwan    172     2zw       김관            6105            20   \n",
       "1218        yoonhanna    245     3u4    hanna            5023            63   \n",
       "544             2kija    437     6i4    이기주작가            7300             8   \n",
       "248            gzerof    369     xYA      홍준호            6086            51   \n",
       "\n",
       "      article_count  \n",
       "552               8  \n",
       "1732             11  \n",
       "1218             12  \n",
       "544              13  \n",
       "248              14  "
      ]
     },
     "execution_count": 6,
     "metadata": {},
     "output_type": "execute_result"
    }
   ],
   "source": [
    "top_df.sort_values(\"article_count\").head()"
   ]
  },
  {
   "cell_type": "code",
   "execution_count": 7,
   "metadata": {},
   "outputs": [
    {
     "data": {
      "text/html": [
       "<div>\n",
       "<style>\n",
       "    .dataframe thead tr:only-child th {\n",
       "        text-align: right;\n",
       "    }\n",
       "\n",
       "    .dataframe thead th {\n",
       "        text-align: left;\n",
       "    }\n",
       "\n",
       "    .dataframe tbody tr th {\n",
       "        vertical-align: top;\n",
       "    }\n",
       "</style>\n",
       "<table border=\"1\" class=\"dataframe\">\n",
       "  <thead>\n",
       "    <tr style=\"text-align: right;\">\n",
       "      <th></th>\n",
       "      <th>profile_id</th>\n",
       "      <th>count</th>\n",
       "      <th>user_id</th>\n",
       "      <th>username</th>\n",
       "      <th>follower_count</th>\n",
       "      <th>writer_count</th>\n",
       "      <th>article_count</th>\n",
       "    </tr>\n",
       "  </thead>\n",
       "  <tbody>\n",
       "    <tr>\n",
       "      <th>74</th>\n",
       "      <td>wikitree</td>\n",
       "      <td>545</td>\n",
       "      <td>Jp6</td>\n",
       "      <td>위키트리 WIKITREE</td>\n",
       "      <td>8775</td>\n",
       "      <td>1</td>\n",
       "      <td>1747</td>\n",
       "    </tr>\n",
       "    <tr>\n",
       "      <th>83</th>\n",
       "      <td>bookdb</td>\n",
       "      <td>522</td>\n",
       "      <td>ocv</td>\n",
       "      <td>인터파크 북DB</td>\n",
       "      <td>5947</td>\n",
       "      <td>1</td>\n",
       "      <td>1393</td>\n",
       "    </tr>\n",
       "    <tr>\n",
       "      <th>217</th>\n",
       "      <td>dong02</td>\n",
       "      <td>410</td>\n",
       "      <td>iDz</td>\n",
       "      <td>이동영 작가의 글쓰기</td>\n",
       "      <td>5940</td>\n",
       "      <td>15</td>\n",
       "      <td>1028</td>\n",
       "    </tr>\n",
       "    <tr>\n",
       "      <th>470</th>\n",
       "      <td>brunchflgu</td>\n",
       "      <td>806</td>\n",
       "      <td>oZ3</td>\n",
       "      <td>조우성 변호사</td>\n",
       "      <td>10606</td>\n",
       "      <td>46</td>\n",
       "      <td>992</td>\n",
       "    </tr>\n",
       "    <tr>\n",
       "      <th>573</th>\n",
       "      <td>hitchwill</td>\n",
       "      <td>465</td>\n",
       "      <td>3kT</td>\n",
       "      <td>나는 누군가</td>\n",
       "      <td>7250</td>\n",
       "      <td>6</td>\n",
       "      <td>866</td>\n",
       "    </tr>\n",
       "  </tbody>\n",
       "</table>\n",
       "</div>"
      ],
      "text/plain": [
       "     profile_id  count user_id       username  follower_count  writer_count  \\\n",
       "74     wikitree    545     Jp6  위키트리 WIKITREE            8775             1   \n",
       "83       bookdb    522     ocv       인터파크 북DB            5947             1   \n",
       "217      dong02    410     iDz    이동영 작가의 글쓰기            5940            15   \n",
       "470  brunchflgu    806     oZ3        조우성 변호사           10606            46   \n",
       "573   hitchwill    465     3kT         나는 누군가            7250             6   \n",
       "\n",
       "     article_count  \n",
       "74            1747  \n",
       "83            1393  \n",
       "217           1028  \n",
       "470            992  \n",
       "573            866  "
      ]
     },
     "execution_count": 7,
     "metadata": {},
     "output_type": "execute_result"
    }
   ],
   "source": [
    "top_df.sort_values(\"article_count\", ascending=False).head()"
   ]
  },
  {
   "cell_type": "code",
   "execution_count": 8,
   "metadata": {},
   "outputs": [
    {
     "data": {
      "text/plain": [
       "-0.05407113062275383"
      ]
     },
     "execution_count": 8,
     "metadata": {},
     "output_type": "execute_result"
    }
   ],
   "source": [
    "np.corrcoef(top_df[\"follower_count\"], top_df[\"writer_count\"])[0, 1]"
   ]
  },
  {
   "cell_type": "code",
   "execution_count": 9,
   "metadata": {},
   "outputs": [
    {
     "data": {
      "text/plain": [
       "0.079968862893865525"
      ]
     },
     "execution_count": 9,
     "metadata": {},
     "output_type": "execute_result"
    }
   ],
   "source": [
    "np.corrcoef(top_df[\"follower_count\"], top_df[\"article_count\"])[0, 1]"
   ]
  },
  {
   "cell_type": "code",
   "execution_count": 84,
   "metadata": {},
   "outputs": [
    {
     "data": {
      "text/plain": [
       "<matplotlib.axes._subplots.AxesSubplot at 0x1289fbac8>"
      ]
     },
     "execution_count": 84,
     "metadata": {},
     "output_type": "execute_result"
    },
    {
     "data": {
      "image/png": "[encoded data removed]",
      "text/plain": [
       "<matplotlib.figure.Figure at 0x128d47f60>"
      ]
     },
     "metadata": {},
     "output_type": "display_data"
    }
   ],
   "source": [
    "top_df.plot(kind=\"scatter\", x=\"article_count\", y=\"follower_count\", \n",
    "            title=\"The relation between follower count and article count\")"
   ]
  },
  {
   "cell_type": "markdown",
   "metadata": {},
   "source": [
    "## The articles whose writer has 5000+ followers"
   ]
  },
  {
   "cell_type": "markdown",
   "metadata": {},
   "source": [
    "### The relation between SNS share count and like count\n",
    "\n",
    "- These two factors are strongly related\n",
    "- Sharing numbers are much bigger than like counts"
   ]
  },
  {
   "cell_type": "code",
   "execution_count": 11,
   "metadata": {},
   "outputs": [],
   "source": [
    "top_articles = get_article_df_by_writers(top_df[\"profile_id\"].values)\n",
    "top_articles_cleaned = top_articles.drop([\n",
    "    \"articleCoverColorForHome\", \"magazineArticleId\", \"coverColor\", \"contentId\", \"magazineNo\", \n",
    "    \"magazineType\", \"readSeconds\", \"pick\", \"userId\", \"sharedFacebookComment\", \"status\"], 1)\n",
    "parse_datetime(top_articles_cleaned, fields=[\"createTime\", \"publishTime\", \"updateTime\"])"
   ]
  },
  {
   "cell_type": "code",
   "execution_count": 12,
   "metadata": {},
   "outputs": [
    {
     "data": {
      "text/plain": [
       "0.51849899507926045"
      ]
     },
     "execution_count": 12,
     "metadata": {},
     "output_type": "execute_result"
    }
   ],
   "source": [
    "np.corrcoef(top_articles_cleaned[\"socialShareTotalCount\"], top_articles_cleaned[\"likeCount\"])[0, 1]"
   ]
  },
  {
   "cell_type": "code",
   "execution_count": 13,
   "metadata": {},
   "outputs": [
    {
     "data": {
      "text/html": [
       "<div>\n",
       "<style>\n",
       "    .dataframe thead tr:only-child th {\n",
       "        text-align: right;\n",
       "    }\n",
       "\n",
       "    .dataframe thead th {\n",
       "        text-align: left;\n",
       "    }\n",
       "\n",
       "    .dataframe tbody tr th {\n",
       "        vertical-align: top;\n",
       "    }\n",
       "</style>\n",
       "<table border=\"1\" class=\"dataframe\">\n",
       "  <thead>\n",
       "    <tr style=\"text-align: right;\">\n",
       "      <th></th>\n",
       "      <th>magazineTitle</th>\n",
       "      <th>no</th>\n",
       "      <th>profileId</th>\n",
       "      <th>publishTime</th>\n",
       "      <th>socialShareTotalCount</th>\n",
       "      <th>subTitle</th>\n",
       "    </tr>\n",
       "  </thead>\n",
       "  <tbody>\n",
       "    <tr>\n",
       "      <th>148</th>\n",
       "      <td>NaN</td>\n",
       "      <td>73</td>\n",
       "      <td>stillalive31</td>\n",
       "      <td>2015-08-11 14:35:54</td>\n",
       "      <td>61234</td>\n",
       "      <td>반드시 피해야 할 지극히 나쁜 언행, 6천(賤)</td>\n",
       "    </tr>\n",
       "    <tr>\n",
       "      <th>34</th>\n",
       "      <td>삶의 교훈</td>\n",
       "      <td>389</td>\n",
       "      <td>jade</td>\n",
       "      <td>2016-08-24 10:59:21</td>\n",
       "      <td>55222</td>\n",
       "      <td>NaN</td>\n",
       "    </tr>\n",
       "    <tr>\n",
       "      <th>294</th>\n",
       "      <td>NaN</td>\n",
       "      <td>35</td>\n",
       "      <td>sunsutu</td>\n",
       "      <td>2016-01-26 16:24:01</td>\n",
       "      <td>31780</td>\n",
       "      <td>전원주택 공사 시공 편</td>\n",
       "    </tr>\n",
       "    <tr>\n",
       "      <th>669</th>\n",
       "      <td>리더십 조직관리 Must Know</td>\n",
       "      <td>202</td>\n",
       "      <td>brunchflgu</td>\n",
       "      <td>2015-10-08 17:49:01</td>\n",
       "      <td>25334</td>\n",
       "      <td>조우성 변호사의 비즈니스 인사이트</td>\n",
       "    </tr>\n",
       "    <tr>\n",
       "      <th>47</th>\n",
       "      <td>퇴사의 추억</td>\n",
       "      <td>27</td>\n",
       "      <td>suhanjang</td>\n",
       "      <td>2015-09-25 11:06:47</td>\n",
       "      <td>25087</td>\n",
       "      <td>NaN</td>\n",
       "    </tr>\n",
       "  </tbody>\n",
       "</table>\n",
       "</div>"
      ],
      "text/plain": [
       "          magazineTitle   no     profileId         publishTime  \\\n",
       "148                 NaN   73  stillalive31 2015-08-11 14:35:54   \n",
       "34                삶의 교훈  389          jade 2016-08-24 10:59:21   \n",
       "294                 NaN   35       sunsutu 2016-01-26 16:24:01   \n",
       "669  리더십 조직관리 Must Know  202    brunchflgu 2015-10-08 17:49:01   \n",
       "47               퇴사의 추억   27     suhanjang 2015-09-25 11:06:47   \n",
       "\n",
       "     socialShareTotalCount                    subTitle  \n",
       "148                  61234  반드시 피해야 할 지극히 나쁜 언행, 6천(賤)  \n",
       "34                   55222                         NaN  \n",
       "294                  31780                전원주택 공사 시공 편  \n",
       "669                  25334          조우성 변호사의 비즈니스 인사이트  \n",
       "47                   25087                         NaN  "
      ]
     },
     "execution_count": 13,
     "metadata": {},
     "output_type": "execute_result"
    }
   ],
   "source": [
    "top_articles_cleaned.sort_values(\"socialShareTotalCount\", ascending=False).iloc[:5, 6:12]"
   ]
  },
  {
   "cell_type": "code",
   "execution_count": 14,
   "metadata": {},
   "outputs": [
    {
     "data": {
      "text/html": [
       "<div>\n",
       "<style>\n",
       "    .dataframe thead tr:only-child th {\n",
       "        text-align: right;\n",
       "    }\n",
       "\n",
       "    .dataframe thead th {\n",
       "        text-align: left;\n",
       "    }\n",
       "\n",
       "    .dataframe tbody tr th {\n",
       "        vertical-align: top;\n",
       "    }\n",
       "</style>\n",
       "<table border=\"1\" class=\"dataframe\">\n",
       "  <thead>\n",
       "    <tr style=\"text-align: right;\">\n",
       "      <th></th>\n",
       "      <th>likeCount</th>\n",
       "      <th>no</th>\n",
       "      <th>profileId</th>\n",
       "      <th>publishTime</th>\n",
       "      <th>subTitle</th>\n",
       "      <th>title</th>\n",
       "    </tr>\n",
       "  </thead>\n",
       "  <tbody>\n",
       "    <tr>\n",
       "      <th>34</th>\n",
       "      <td>734</td>\n",
       "      <td>389</td>\n",
       "      <td>jade</td>\n",
       "      <td>2016-08-24 10:59:21</td>\n",
       "      <td>NaN</td>\n",
       "      <td>잠시 생각해 볼만한 그림들</td>\n",
       "    </tr>\n",
       "    <tr>\n",
       "      <th>130</th>\n",
       "      <td>699</td>\n",
       "      <td>44</td>\n",
       "      <td>lunarshore</td>\n",
       "      <td>2016-03-14 05:45:39</td>\n",
       "      <td>차별화 전략을 잃어버린 브랜드가 망가지는 수순</td>\n",
       "      <td>브랜드가 망가지는 9단계</td>\n",
       "    </tr>\n",
       "    <tr>\n",
       "      <th>60</th>\n",
       "      <td>696</td>\n",
       "      <td>12</td>\n",
       "      <td>haneulalice</td>\n",
       "      <td>2015-11-12 00:55:51</td>\n",
       "      <td>저녁이 없는 삶은 누가 만든걸까요?</td>\n",
       "      <td>당신의 이직을 바랍니다</td>\n",
       "    </tr>\n",
       "    <tr>\n",
       "      <th>21</th>\n",
       "      <td>668</td>\n",
       "      <td>68</td>\n",
       "      <td>dohyunkim</td>\n",
       "      <td>2016-01-12 17:54:08</td>\n",
       "      <td>TED 해설강의 by NYU 유학생</td>\n",
       "      <td>6개월만에 영어를 마스터 하는 것이 가능할까?</td>\n",
       "    </tr>\n",
       "    <tr>\n",
       "      <th>96</th>\n",
       "      <td>658</td>\n",
       "      <td>264</td>\n",
       "      <td>jade</td>\n",
       "      <td>2016-03-28 12:05:35</td>\n",
       "      <td>NaN</td>\n",
       "      <td>바쁜 사람과 유능한 사람의 12가지 차이</td>\n",
       "    </tr>\n",
       "  </tbody>\n",
       "</table>\n",
       "</div>"
      ],
      "text/plain": [
       "     likeCount   no    profileId         publishTime  \\\n",
       "34         734  389         jade 2016-08-24 10:59:21   \n",
       "130        699   44   lunarshore 2016-03-14 05:45:39   \n",
       "60         696   12  haneulalice 2015-11-12 00:55:51   \n",
       "21         668   68    dohyunkim 2016-01-12 17:54:08   \n",
       "96         658  264         jade 2016-03-28 12:05:35   \n",
       "\n",
       "                      subTitle                      title  \n",
       "34                         NaN             잠시 생각해 볼만한 그림들  \n",
       "130  차별화 전략을 잃어버린 브랜드가 망가지는 수순              브랜드가 망가지는 9단계  \n",
       "60         저녁이 없는 삶은 누가 만든걸까요?               당신의 이직을 바랍니다  \n",
       "21         TED 해설강의 by NYU 유학생  6개월만에 영어를 마스터 하는 것이 가능할까?  \n",
       "96                         NaN     바쁜 사람과 유능한 사람의 12가지 차이  "
      ]
     },
     "execution_count": 14,
     "metadata": {},
     "output_type": "execute_result"
    }
   ],
   "source": [
    "top_articles_cleaned \\\n",
    "    .drop([\"magazineAddress\", \"magazineTitle\", \"socialShareTotalCount\", \"ip\"], 1) \\\n",
    "    .sort_values(\"likeCount\", ascending=False).iloc[:5, 3:9]"
   ]
  },
  {
   "cell_type": "code",
   "execution_count": 15,
   "metadata": {},
   "outputs": [
    {
     "data": {
      "text/html": [
       "<div>\n",
       "<style>\n",
       "    .dataframe thead tr:only-child th {\n",
       "        text-align: right;\n",
       "    }\n",
       "\n",
       "    .dataframe thead th {\n",
       "        text-align: left;\n",
       "    }\n",
       "\n",
       "    .dataframe tbody tr th {\n",
       "        vertical-align: top;\n",
       "    }\n",
       "</style>\n",
       "<table border=\"1\" class=\"dataframe\">\n",
       "  <thead>\n",
       "    <tr style=\"text-align: right;\">\n",
       "      <th></th>\n",
       "      <th>commentCount</th>\n",
       "      <th>no</th>\n",
       "      <th>profileId</th>\n",
       "      <th>publishTime</th>\n",
       "      <th>subTitle</th>\n",
       "      <th>title</th>\n",
       "      <th>updateTime</th>\n",
       "    </tr>\n",
       "  </thead>\n",
       "  <tbody>\n",
       "    <tr>\n",
       "      <th>68</th>\n",
       "      <td>310</td>\n",
       "      <td>42</td>\n",
       "      <td>dalda</td>\n",
       "      <td>2016-02-17 17:58:03</td>\n",
       "      <td>오늘은 달다</td>\n",
       "      <td>대한민국 남자들</td>\n",
       "      <td>2017-01-04 00:01:09</td>\n",
       "    </tr>\n",
       "    <tr>\n",
       "      <th>1672</th>\n",
       "      <td>273</td>\n",
       "      <td>80</td>\n",
       "      <td>wikitree</td>\n",
       "      <td>2015-12-31 14:50:37</td>\n",
       "      <td>NaN</td>\n",
       "      <td>남자가 결혼상대로 피해야 하는 '여자 유형' 8가지</td>\n",
       "      <td>2017-08-16 00:01:47</td>\n",
       "    </tr>\n",
       "    <tr>\n",
       "      <th>77</th>\n",
       "      <td>228</td>\n",
       "      <td>152</td>\n",
       "      <td>brunch27uc</td>\n",
       "      <td>2016-06-11 05:48:02</td>\n",
       "      <td>결혼할 여자를 고르는  법</td>\n",
       "      <td>결혼해서는 안 될 여자</td>\n",
       "      <td>2017-06-17 10:20:54</td>\n",
       "    </tr>\n",
       "    <tr>\n",
       "      <th>13</th>\n",
       "      <td>219</td>\n",
       "      <td>67</td>\n",
       "      <td>nitro2red</td>\n",
       "      <td>2016-05-18 05:21:30</td>\n",
       "      <td>곡성에 나타난 상징에 대한 분석</td>\n",
       "      <td>귀신이 곡할 영화 '곡성'</td>\n",
       "      <td>2017-08-22 17:06:36</td>\n",
       "    </tr>\n",
       "    <tr>\n",
       "      <th>43</th>\n",
       "      <td>191</td>\n",
       "      <td>8</td>\n",
       "      <td>goodrain</td>\n",
       "      <td>2015-11-09 18:55:59</td>\n",
       "      <td>NaN</td>\n",
       "      <td>07. 헤어진 사람에게</td>\n",
       "      <td>2017-08-13 19:05:10</td>\n",
       "    </tr>\n",
       "  </tbody>\n",
       "</table>\n",
       "</div>"
      ],
      "text/plain": [
       "      commentCount   no   profileId         publishTime           subTitle  \\\n",
       "68             310   42       dalda 2016-02-17 17:58:03             오늘은 달다   \n",
       "1672           273   80    wikitree 2015-12-31 14:50:37                NaN   \n",
       "77             228  152  brunch27uc 2016-06-11 05:48:02     결혼할 여자를 고르는  법   \n",
       "13             219   67   nitro2red 2016-05-18 05:21:30  곡성에 나타난 상징에 대한 분석   \n",
       "43             191    8    goodrain 2015-11-09 18:55:59                NaN   \n",
       "\n",
       "                             title          updateTime  \n",
       "68                        대한민국 남자들 2017-01-04 00:01:09  \n",
       "1672  남자가 결혼상대로 피해야 하는 '여자 유형' 8가지 2017-08-16 00:01:47  \n",
       "77                    결혼해서는 안 될 여자 2017-06-17 10:20:54  \n",
       "13                  귀신이 곡할 영화 '곡성' 2017-08-22 17:06:36  \n",
       "43                    07. 헤어진 사람에게 2017-08-13 19:05:10  "
      ]
     },
     "execution_count": 15,
     "metadata": {},
     "output_type": "execute_result"
    }
   ],
   "source": [
    "top_articles_cleaned \\\n",
    "    .drop([\"createTime\", \"likeCount\", \"magazineAddress\", \"magazineTitle\", \"socialShareTotalCount\", \"ip\"], 1) \\\n",
    "    .sort_values(\"commentCount\", ascending=False).iloc[:5, 1:9]"
   ]
  },
  {
   "cell_type": "code",
   "execution_count": 86,
   "metadata": {},
   "outputs": [
    {
     "data": {
      "text/plain": [
       "<matplotlib.axes._subplots.AxesSubplot at 0x12fdf9ef0>"
      ]
     },
     "execution_count": 86,
     "metadata": {},
     "output_type": "execute_result"
    },
    {
     "data": {
      "image/png": "[encoded data removed]",
      "text/plain": [
       "<matplotlib.figure.Figure at 0x12fe069e8>"
      ]
     },
     "metadata": {},
     "output_type": "display_data"
    }
   ],
   "source": [
    "top_articles_cleaned[top_articles_cleaned[\"socialShareTotalCount\"] < 5000] \\\n",
    "    .plot(kind=\"scatter\", x=\"likeCount\", y=\"socialShareTotalCount\", \n",
    "          title=\"The relation between like count and SNS share count\")"
   ]
  },
  {
   "cell_type": "markdown",
   "metadata": {},
   "source": [
    "### How are top articles?\n",
    "\n",
    "- The average of the number of images is 5.45, and the standard deviation is 8.46\n",
    "- The mean of comment, like, SNS share is 3.61, 11.66, 60.12"
   ]
  },
  {
   "cell_type": "code",
   "execution_count": 17,
   "metadata": {},
   "outputs": [
    {
     "data": {
      "text/html": [
       "<div>\n",
       "<style>\n",
       "    .dataframe thead tr:only-child th {\n",
       "        text-align: right;\n",
       "    }\n",
       "\n",
       "    .dataframe thead th {\n",
       "        text-align: left;\n",
       "    }\n",
       "\n",
       "    .dataframe tbody tr th {\n",
       "        vertical-align: top;\n",
       "    }\n",
       "</style>\n",
       "<table border=\"1\" class=\"dataframe\">\n",
       "  <thead>\n",
       "    <tr style=\"text-align: right;\">\n",
       "      <th></th>\n",
       "      <th>articleImageList</th>\n",
       "      <th>commentCount</th>\n",
       "      <th>likeCount</th>\n",
       "      <th>socialShareTotalCount</th>\n",
       "    </tr>\n",
       "  </thead>\n",
       "  <tbody>\n",
       "    <tr>\n",
       "      <th>count</th>\n",
       "      <td>26891.000000</td>\n",
       "      <td>26891.000000</td>\n",
       "      <td>26891.000000</td>\n",
       "      <td>26891.000000</td>\n",
       "    </tr>\n",
       "    <tr>\n",
       "      <th>mean</th>\n",
       "      <td>5.451006</td>\n",
       "      <td>3.610093</td>\n",
       "      <td>11.655238</td>\n",
       "      <td>60.121676</td>\n",
       "    </tr>\n",
       "    <tr>\n",
       "      <th>std</th>\n",
       "      <td>8.457590</td>\n",
       "      <td>8.765005</td>\n",
       "      <td>25.753824</td>\n",
       "      <td>690.119018</td>\n",
       "    </tr>\n",
       "    <tr>\n",
       "      <th>min</th>\n",
       "      <td>0.000000</td>\n",
       "      <td>0.000000</td>\n",
       "      <td>0.000000</td>\n",
       "      <td>0.000000</td>\n",
       "    </tr>\n",
       "    <tr>\n",
       "      <th>25%</th>\n",
       "      <td>1.000000</td>\n",
       "      <td>0.000000</td>\n",
       "      <td>2.000000</td>\n",
       "      <td>0.000000</td>\n",
       "    </tr>\n",
       "    <tr>\n",
       "      <th>50%</th>\n",
       "      <td>3.000000</td>\n",
       "      <td>1.000000</td>\n",
       "      <td>5.000000</td>\n",
       "      <td>2.000000</td>\n",
       "    </tr>\n",
       "    <tr>\n",
       "      <th>75%</th>\n",
       "      <td>6.000000</td>\n",
       "      <td>4.000000</td>\n",
       "      <td>12.000000</td>\n",
       "      <td>14.000000</td>\n",
       "    </tr>\n",
       "    <tr>\n",
       "      <th>max</th>\n",
       "      <td>147.000000</td>\n",
       "      <td>310.000000</td>\n",
       "      <td>734.000000</td>\n",
       "      <td>61234.000000</td>\n",
       "    </tr>\n",
       "  </tbody>\n",
       "</table>\n",
       "</div>"
      ],
      "text/plain": [
       "       articleImageList  commentCount     likeCount  socialShareTotalCount\n",
       "count      26891.000000  26891.000000  26891.000000           26891.000000\n",
       "mean           5.451006      3.610093     11.655238              60.121676\n",
       "std            8.457590      8.765005     25.753824             690.119018\n",
       "min            0.000000      0.000000      0.000000               0.000000\n",
       "25%            1.000000      0.000000      2.000000               0.000000\n",
       "50%            3.000000      1.000000      5.000000               2.000000\n",
       "75%            6.000000      4.000000     12.000000              14.000000\n",
       "max          147.000000    310.000000    734.000000           61234.000000"
      ]
     },
     "execution_count": 17,
     "metadata": {},
     "output_type": "execute_result"
    }
   ],
   "source": [
    "top_articles_cleaned.drop([\"no\"], 1).describe()"
   ]
  },
  {
   "cell_type": "markdown",
   "metadata": {},
   "source": [
    "### How they write?\n",
    "\n",
    "- The total number of articles of writers with 5000+ followers is gradually increasing\n",
    "- 98% of them started writing on Brunch before March 2016"
   ]
  },
  {
   "cell_type": "code",
   "execution_count": 89,
   "metadata": {},
   "outputs": [
    {
     "data": {
      "text/plain": [
       "[<matplotlib.text.Text at 0x126f07978>, <matplotlib.text.Text at 0x126eea240>]"
      ]
     },
     "execution_count": 89,
     "metadata": {},
     "output_type": "execute_result"
    },
    {
     "data": {
      "image/png": "[encoded data removed]",
      "text/plain": [
       "<matplotlib.figure.Figure at 0x12f88ea90>"
      ]
     },
     "metadata": {},
     "output_type": "display_data"
    }
   ],
   "source": [
    "top_articles_cleaned = top_articles_cleaned.sort_values(\"createTime\", ascending=True)\n",
    "top_articles_cleaned[\"default\"] = 1\n",
    "top_articles_cleaned[\"accumCount\"] = top_articles_cleaned[\"default\"].cumsum()\n",
    "ax = top_articles_cleaned.plot(x=\"createTime\", y=\"accumCount\", title=\"The accumulative number of article\")\n",
    "ax.set(xlabel=\"create time\", ylabel=\"total count\")"
   ]
  },
  {
   "cell_type": "code",
   "execution_count": 90,
   "metadata": {},
   "outputs": [
    {
     "data": {
      "text/plain": [
       "[<matplotlib.text.Text at 0x130cd3c18>]"
      ]
     },
     "execution_count": 90,
     "metadata": {},
     "output_type": "execute_result"
    },
    {
     "data": {
      "image/png": "[encoded data removed]",
      "text/plain": [
       "<matplotlib.figure.Figure at 0x1289863c8>"
      ]
     },
     "metadata": {},
     "output_type": "display_data"
    }
   ],
   "source": [
    "top_articles_cleaned[\"day\"] = top_articles_cleaned[\"createTime\"].apply(lambda x: x.weekday())\n",
    "ax = top_articles_cleaned[\"day\"].plot(kind=\"hist\", x=\"day\", bins=7, title=\"When writers write\")\n",
    "ax.set(xlabel=\"Day (starting from Monday(0))\")"
   ]
  },
  {
   "cell_type": "code",
   "execution_count": 94,
   "metadata": {},
   "outputs": [
    {
     "data": {
      "text/plain": [
       "[<matplotlib.text.Text at 0x126df93c8>]"
      ]
     },
     "execution_count": 94,
     "metadata": {},
     "output_type": "execute_result"
    },
    {
     "data": {
      "image/png": "[encoded data removed]",
      "text/plain": [
       "<matplotlib.figure.Figure at 0x122ef39b0>"
      ]
     },
     "metadata": {},
     "output_type": "display_data"
    }
   ],
   "source": [
    "top_articles_cleaned[\"writingHour\"] = top_articles_cleaned[\"createTime\"].apply(lambda x: x.hour)\n",
    "ax = top_articles_cleaned[\"writingHour\"].plot(kind=\"hist\", x=\"writingHour\", bins=24, \n",
    "                                              title=\"When writers start writing\")\n",
    "ax.set(xlabel=\"Start Writing Hour (0-23)\")"
   ]
  },
  {
   "cell_type": "code",
   "execution_count": 95,
   "metadata": {},
   "outputs": [
    {
     "data": {
      "text/plain": [
       "[<matplotlib.text.Text at 0x12d848630>]"
      ]
     },
     "execution_count": 95,
     "metadata": {},
     "output_type": "execute_result"
    },
    {
     "data": {
      "image/png": "[encoded data removed]",
      "text/plain": [
       "<matplotlib.figure.Figure at 0x12d851160>"
      ]
     },
     "metadata": {},
     "output_type": "display_data"
    }
   ],
   "source": [
    "top_articles_cleaned[\"publishingHour\"] = top_articles_cleaned[\"publishTime\"].apply(lambda x: x.hour)\n",
    "ax = top_articles_cleaned[\"publishingHour\"].plot(kind=\"hist\", x=\"publishingHour\", bins=24, \n",
    "                                            title=\"When writers start publishing\")\n",
    "ax.set(xlabel=\"Publishing Hour (0-23)\")"
   ]
  },
  {
   "cell_type": "code",
   "execution_count": 96,
   "metadata": {},
   "outputs": [
    {
     "data": {
      "text/plain": [
       "[<matplotlib.text.Text at 0x126e049b0>]"
      ]
     },
     "execution_count": 96,
     "metadata": {},
     "output_type": "execute_result"
    },
    {
     "data": {
      "image/png": "[encoded data removed]",
      "text/plain": [
       "<matplotlib.figure.Figure at 0x129e4d6a0>"
      ]
     },
     "metadata": {},
     "output_type": "display_data"
    }
   ],
   "source": [
    "top_articles_cleaned[\"writingDuration\"] = top_articles_cleaned[\"publishTime\"] - top_articles_cleaned[\"createTime\"]\n",
    "top_articles_cleaned[\"writingDuration\"] = top_articles_cleaned[\"writingDuration\"].apply(lambda x: x.seconds / 60)\n",
    "ax = top_articles_cleaned[\"writingDuration\"].plot(kind=\"hist\", x=\"writingDuration\", bins=24, \n",
    "                                                 title=\"How long writers write by minute\")\n",
    "ax.set(xlabel=\"Minutes\")"
   ]
  },
  {
   "cell_type": "markdown",
   "metadata": {},
   "source": [
    "### Articles written within 15 minutes\n",
    "- It means writers usually don't use the built-in writing system in brunch"
   ]
  },
  {
   "cell_type": "code",
   "execution_count": 23,
   "metadata": {},
   "outputs": [
    {
     "data": {
      "text/plain": [
       "61.585660629950546"
      ]
     },
     "execution_count": 23,
     "metadata": {},
     "output_type": "execute_result"
    }
   ],
   "source": [
    "top_articles_cleaned[top_articles_cleaned[\"writingDuration\"] < 15][\"writingDuration\"].count() \\\n",
    "    / top_articles_cleaned[\"writingDuration\"].count() * 100"
   ]
  },
  {
   "cell_type": "code",
   "execution_count": 97,
   "metadata": {},
   "outputs": [
    {
     "data": {
      "text/plain": [
       "[<matplotlib.text.Text at 0x12e865518>]"
      ]
     },
     "execution_count": 97,
     "metadata": {},
     "output_type": "execute_result"
    },
    {
     "data": {
      "image/png": "[encoded data removed]",
      "text/plain": [
       "<matplotlib.figure.Figure at 0x12eac0320>"
      ]
     },
     "metadata": {},
     "output_type": "display_data"
    }
   ],
   "source": [
    "ax = top_articles_cleaned[top_articles_cleaned[\"writingDuration\"] > 15][\"writingDuration\"] \\\n",
    "        .plot(kind=\"hist\", x=\"writingDuration\", bins=24, title=\"How long writers write above 15 minutes\")\n",
    "ax.set(xlabel=\"Minutes (over 15m)\")"
   ]
  },
  {
   "cell_type": "code",
   "execution_count": 26,
   "metadata": {},
   "outputs": [
    {
     "data": {
      "text/plain": [
       "16.250790227213567"
      ]
     },
     "execution_count": 26,
     "metadata": {},
     "output_type": "execute_result"
    }
   ],
   "source": [
    "top_articles_cleaned.query(\"writingDuration > 15 & writingDuration < 300\")[\"writingDuration\"].count() \\\n",
    "/ top_articles_cleaned[\"writingDuration\"].count() * 100"
   ]
  },
  {
   "cell_type": "code",
   "execution_count": 98,
   "metadata": {},
   "outputs": [
    {
     "data": {
      "text/plain": [
       "[<matplotlib.text.Text at 0x12a0f52b0>]"
      ]
     },
     "execution_count": 98,
     "metadata": {},
     "output_type": "execute_result"
    },
    {
     "data": {
      "image/png": "[encoded data removed]",
      "text/plain": [
       "<matplotlib.figure.Figure at 0x12d994278>"
      ]
     },
     "metadata": {},
     "output_type": "display_data"
    }
   ],
   "source": [
    "unique_top_writers = top_df[\"profile_id\"].unique()\n",
    "top_first_article_time = pd.DataFrame(\n",
    "    [top_articles_cleaned[top_articles_cleaned[\"profileId\"] == writer].iloc[0][\"createTime\"]\n",
    "     for writer in unique_top_writers],\n",
    "    columns=[\"time\"]\n",
    ")\n",
    "top_first_article_time = top_first_article_time.sort_values(\"time\")\n",
    "top_first_article_time[\"default\"] = 1\n",
    "top_first_article_time[\"accumCount\"] = top_first_article_time[\"default\"].cumsum()\n",
    "ax = top_first_article_time.plot(x=\"time\", y=\"accumCount\", title=\"When writers started writing\")\n",
    "ax.set(xlabel=\"starting date\")"
   ]
  },
  {
   "cell_type": "code",
   "execution_count": 99,
   "metadata": {},
   "outputs": [
    {
     "data": {
      "text/plain": [
       "[<matplotlib.text.Text at 0x12d7ea978>, <matplotlib.text.Text at 0x12df120f0>]"
      ]
     },
     "execution_count": 99,
     "metadata": {},
     "output_type": "execute_result"
    },
    {
     "data": {
      "image/png": "[encoded data removed]",
      "text/plain": [
       "<matplotlib.figure.Figure at 0x12df09898>"
      ]
     },
     "metadata": {},
     "output_type": "display_data"
    }
   ],
   "source": [
    "def find_writer_count_of_lastest_time(time:pd.datetime) -> int:\n",
    "    result_values = top_first_article_time[top_first_article_time[\"time\"] < time][\"accumCount\"].values\n",
    "    if len(result_values) == 0:\n",
    "        return 1\n",
    "    return result_values[-1]\n",
    "top_articles_cleaned[\"accumCountPerWriter\"] = \\\n",
    "    top_articles_cleaned[\"accumCount\"] / top_articles_cleaned[\"createTime\"].apply(find_writer_count_of_lastest_time)\n",
    "ax = top_articles_cleaned.plot(x=\"createTime\", y=\"accumCountPerWriter\", title=\"The number of articles per writer\")\n",
    "ax.set(xlabel=\"date\", ylabel=\"the number of articles\")"
   ]
  },
  {
   "cell_type": "code",
   "execution_count": 29,
   "metadata": {},
   "outputs": [
    {
     "data": {
      "text/html": [
       "<div>\n",
       "<style>\n",
       "    .dataframe thead tr:only-child th {\n",
       "        text-align: right;\n",
       "    }\n",
       "\n",
       "    .dataframe thead th {\n",
       "        text-align: left;\n",
       "    }\n",
       "\n",
       "    .dataframe tbody tr th {\n",
       "        vertical-align: top;\n",
       "    }\n",
       "</style>\n",
       "<table border=\"1\" class=\"dataframe\">\n",
       "  <thead>\n",
       "    <tr style=\"text-align: right;\">\n",
       "      <th></th>\n",
       "      <th>createTime</th>\n",
       "      <th>description</th>\n",
       "      <th>followerCount</th>\n",
       "      <th>profileId</th>\n",
       "      <th>userName</th>\n",
       "      <th>writerCount</th>\n",
       "    </tr>\n",
       "  </thead>\n",
       "  <tbody>\n",
       "    <tr>\n",
       "      <th>0</th>\n",
       "      <td>2017-08-24 08:04:50</td>\n",
       "      <td>MAGARETT의 브런치입니다.</td>\n",
       "      <td>0</td>\n",
       "      <td>megan-yoon</td>\n",
       "      <td>MAGARETT</td>\n",
       "      <td>48</td>\n",
       "    </tr>\n",
       "    <tr>\n",
       "      <th>1</th>\n",
       "      <td>2017-08-24 07:29:31</td>\n",
       "      <td>구구의 브런치입니다.</td>\n",
       "      <td>0</td>\n",
       "      <td>jungulism</td>\n",
       "      <td>구구</td>\n",
       "      <td>8</td>\n",
       "    </tr>\n",
       "    <tr>\n",
       "      <th>2</th>\n",
       "      <td>2017-08-24 07:28:40</td>\n",
       "      <td>김보람의 브런치입니다.</td>\n",
       "      <td>0</td>\n",
       "      <td>kimboroam</td>\n",
       "      <td>김보람</td>\n",
       "      <td>2</td>\n",
       "    </tr>\n",
       "    <tr>\n",
       "      <th>3</th>\n",
       "      <td>2017-08-24 06:59:06</td>\n",
       "      <td>한수연의 브런치입니다.</td>\n",
       "      <td>1</td>\n",
       "      <td>nownhere23</td>\n",
       "      <td>한수연</td>\n",
       "      <td>50</td>\n",
       "    </tr>\n",
       "    <tr>\n",
       "      <th>4</th>\n",
       "      <td>2017-08-24 06:52:07</td>\n",
       "      <td>풍꼬의 브런치입니다.</td>\n",
       "      <td>0</td>\n",
       "      <td>ljk4936</td>\n",
       "      <td>풍꼬</td>\n",
       "      <td>159</td>\n",
       "    </tr>\n",
       "  </tbody>\n",
       "</table>\n",
       "</div>"
      ],
      "text/plain": [
       "           createTime        description  followerCount   profileId  userName  \\\n",
       "0 2017-08-24 08:04:50  MAGARETT의 브런치입니다.              0  megan-yoon  MAGARETT   \n",
       "1 2017-08-24 07:29:31        구구의 브런치입니다.              0   jungulism        구구   \n",
       "2 2017-08-24 07:28:40       김보람의 브런치입니다.              0   kimboroam       김보람   \n",
       "3 2017-08-24 06:59:06       한수연의 브런치입니다.              1  nownhere23       한수연   \n",
       "4 2017-08-24 06:52:07        풍꼬의 브런치입니다.              0     ljk4936        풍꼬   \n",
       "\n",
       "   writerCount  \n",
       "0           48  \n",
       "1            8  \n",
       "2            2  \n",
       "3           50  \n",
       "4          159  "
      ]
     },
     "execution_count": 29,
     "metadata": {},
     "output_type": "execute_result"
    }
   ],
   "source": [
    "top_followers = get_follower_df_by_writers(top_df[\"profile_id\"].values)\n",
    "top_followers_cleaned = top_followers.drop([\"articleCount\", \"userId\", \"myFollower\", \"myWriter\", \"subscribeNo\"], 1)\n",
    "parse_datetime(top_followers_cleaned, fields=[\"createTime\"])\n",
    "top_followers_cleaned.head()"
   ]
  },
  {
   "cell_type": "code",
   "execution_count": 100,
   "metadata": {},
   "outputs": [
    {
     "data": {
      "text/plain": [
       "[<matplotlib.text.Text at 0x12df03860>]"
      ]
     },
     "execution_count": 100,
     "metadata": {},
     "output_type": "execute_result"
    },
    {
     "data": {
      "image/png": "[encoded data removed]",
      "text/plain": [
       "<matplotlib.figure.Figure at 0x133bc6668>"
      ]
     },
     "metadata": {},
     "output_type": "display_data"
    }
   ],
   "source": [
    "top_followers_cleaned[\"day\"] = top_followers_cleaned[\"createTime\"].apply(lambda x: x.weekday())\n",
    "ax = top_followers_cleaned[\"day\"].plot(kind=\"hist\", x=\"day\", bins=7, title=\"When people follow 1\")\n",
    "ax.set(xlabel=\"Day (starting from Mon(0))\")"
   ]
  },
  {
   "cell_type": "code",
   "execution_count": 102,
   "metadata": {},
   "outputs": [
    {
     "data": {
      "text/plain": [
       "[<matplotlib.text.Text at 0x13085d3c8>]"
      ]
     },
     "execution_count": 102,
     "metadata": {},
     "output_type": "execute_result"
    },
    {
     "data": {
      "image/png": "[encoded data removed]",
      "text/plain": [
       "<matplotlib.figure.Figure at 0x134a2e048>"
      ]
     },
     "metadata": {},
     "output_type": "display_data"
    }
   ],
   "source": [
    "top_followers_cleaned[\"followingHour\"] = top_followers_cleaned[\"createTime\"].apply(lambda x: x.hour)\n",
    "ax = top_followers_cleaned[\"followingHour\"].plot(kind=\"hist\", x=\"followingHour\", bins=24,\n",
    "                                                title=\"When people follow 2\")\n",
    "ax.set(xlabel=\"Hour (0-23)\")"
   ]
  },
  {
   "cell_type": "markdown",
   "metadata": {},
   "source": [
    "### Tricky growth of Brunch\n",
    "\n",
    "- What did happen in May 2016?\n",
    "- The figure below includes duplicate followers of writers\n",
    "- The number of fans on 30 April 2016 is 4.28 times more than the one on 31 March 2016\n",
    "- This steep growth was affected by a marketing campaign, in which Kakao, the service provider, gave free promotional Kakaotalk emoticons"
   ]
  },
  {
   "cell_type": "code",
   "execution_count": 31,
   "metadata": {},
   "outputs": [
    {
     "data": {
      "text/plain": [
       "<matplotlib.axes._subplots.AxesSubplot at 0x1393437f0>"
      ]
     },
     "execution_count": 31,
     "metadata": {},
     "output_type": "execute_result"
    },
    {
     "data": {
      "image/png": "[encoded data removed]",
      "text/plain": [
       "<matplotlib.figure.Figure at 0x139350b38>"
      ]
     },
     "metadata": {},
     "output_type": "display_data"
    }
   ],
   "source": [
    "top_followers_cleaned = top_followers_cleaned.sort_values(\"createTime\", ascending=True)\n",
    "top_followers_cleaned[\"default\"] = 1\n",
    "top_followers_cleaned[\"accumCount\"] = top_followers_cleaned[\"default\"].cumsum()\n",
    "ax = top_followers_cleaned.plot(x=\"createTime\", y=\"accumCount\", title=\"When people follow 3\")\n",
    "ax.set(xlabel=\"\")"
   ]
  },
  {
   "cell_type": "markdown",
   "metadata": {},
   "source": [
    "### For fun : The authors who the writers with 5000+ followers like most"
   ]
  },
  {
   "cell_type": "code",
   "execution_count": 32,
   "metadata": {
    "scrolled": true
   },
   "outputs": [
    {
     "data": {
      "text/plain": [
       "hyejinchoi      45\n",
       "daljasee        44\n",
       "kooning11       40\n",
       "suhanjang       37\n",
       "blade31         33\n",
       "2kija           32\n",
       "romanticgrey    32\n",
       "eastgo          31\n",
       "onec            31\n",
       "dalda           31\n",
       "jimmyrim        30\n",
       "sustainlife     30\n",
       "Name: profileId, dtype: int64"
      ]
     },
     "execution_count": 32,
     "metadata": {},
     "output_type": "execute_result"
    }
   ],
   "source": [
    "top_followings = get_following_df_by_writers(top_df[\"profile_id\"].values)\n",
    "top_followings_cleaned = top_followings.drop([\"articleCount\", \"userId\", \"myFollower\", \"myWriter\", \"subscribeNo\"], 1)\n",
    "parse_datetime(top_followings_cleaned, fields=[\"createTime\"])\n",
    "top_followings_cleaned[\"profileId\"].value_counts()[1:13]"
   ]
  },
  {
   "cell_type": "markdown",
   "metadata": {},
   "source": [
    "# Conclusion\n",
    "\n",
    "- The number of writers with over 5000 followers is 162 \n",
    "- The correlation between article count and follower count is low, which does not encourage authors to write more articles\n",
    "- The user engagement of Brunch is focused on the share of SNS\n",
    "- There was a strong marketing campaign on April 2016\n",
    "\n",
    "## Limitation of this study\n",
    "\n",
    "- It is not examined if the Kakaotalk marketing campaign helped the growth of Brunch\n",
    "- To figure it out, the active user data should be backed up "
   ]
  }
 ],
 "metadata": {
  "kernelspec": {
   "display_name": "Python 3",
   "language": "python",
   "name": "python3"
  },
  "language_info": {
   "codemirror_mode": {
    "name": "ipython",
    "version": 3
   },
   "file_extension": ".py",
   "mimetype": "text/x-python",
   "name": "python",
   "nbconvert_exporter": "python",
   "pygments_lexer": "ipython3",
   "version": "3.6.1"
  }
 },
 "nbformat": 4,
 "nbformat_minor": 2
}
