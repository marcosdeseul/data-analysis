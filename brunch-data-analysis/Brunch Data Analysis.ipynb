{
 "cells": [
  {
   "cell_type": "markdown",
   "metadata": {},
   "source": [
    "# Brunch Data Analysis\n",
    "\n",
    "**Brunch** is one of the biggest blog platforms in South Korea. This study will investigate what factors made writers more famous and influential. \n",
    "\n",
    "- It is based on the data collected on 24 August 2017"
   ]
  },
  {
   "cell_type": "code",
   "execution_count": 1,
   "metadata": {},
   "outputs": [
    {
     "name": "stdout",
     "output_type": "stream",
     "text": [
      "Populating the interactive namespace from numpy and matplotlib\n"
     ]
    }
   ],
   "source": [
    "import pandas as pd\n",
    "import matplotlib\n",
    "%pylab inline"
   ]
  },
  {
   "cell_type": "code",
   "execution_count": 2,
   "metadata": {},
   "outputs": [],
   "source": [
    "from data_management import read_related_data, get_list_df_by_writers, get_article_df_by_writers, \\\n",
    "                            get_follower_df_by_writers, get_following_df_by_writers, parse_datetime"
   ]
  },
  {
   "cell_type": "code",
   "execution_count": 3,
   "metadata": {},
   "outputs": [],
   "source": [
    "df = read_related_data()"
   ]
  },
  {
   "cell_type": "markdown",
   "metadata": {},
   "source": [
    "## The writers who have 5000+ followers\n",
    "\n",
    "- The number of writers who are followed by over 5000 members is 162\n",
    "- The average of the number of followers is 7589\n",
    "- The average of writer count and article count are 150, 166, but the standard deviation is 767, 224\n",
    "- The writer who has the least articles wrote only 8 to get over 5000 followers\n",
    "- The impact of article count on follower count is not relevant "
   ]
  },
  {
   "cell_type": "code",
   "execution_count": 4,
   "metadata": {},
   "outputs": [
    {
     "data": {
      "text/plain": [
       "array(['바닐라로맨스', '책방아저씨', 'Alice in wonderland', '왕고래', '페리테일', '달다',\n",
       "       '윤직원', '티거 Jang', 'one', '두근거림', '좋은비', '한재우', '금요일 흐림',\n",
       "       '안정현 심리학자 마음달', 'Sustain Life', '신동진', 'rae', 'Sean Pyo',\n",
       "       '에디터C 최혜진', '손화신', '조우성 변호사', '차칸양', '깐 KKan', '캡틴K', '강선생',\n",
       "       '글쟁이 짱쓸', '클링키', 'ALICE', '글쓰는 사진작가 혜류', '안바다', '마음을그리는화가',\n",
       "       '오두막바리스타', '필로 이경희', '에리얼의 영화수납장', '감성호랑이', '질문술사', '위키트리 WIKITREE',\n",
       "       '김권수', 'Peter', '꾸빠', '론리플래닛 매거진 코리아', '흔디', '리모', '신상철', '엄지사진관',\n",
       "       '이시스', '고수리', '김동진', '빛샘', 'puding', '단어벌레', 'AMARANTH', '청민', '양보',\n",
       "       '플래텀', '김태훈', 'YoungJun Jamie Jo', '보름', '김태희', '김은덕 백종민',\n",
       "       'Sarah Kim', '이요셉', 'Storytraveller', '저녁', '허용회', 'yoonash',\n",
       "       '이기주작가', '유환희', '권귀헌 Homo Askus', '그림 읽어주는 엄마', '나는 누군가',\n",
       "       '폰토그래퍼 김두혁', '호송송 시네마', '빨간우산', '그럼에도 불구하고', '정욱', '한국현', '달공원',\n",
       "       '이동진', '퍼펙트 프리젠테이션 작가 김재성', '남성태', 'Mobiinside', '스카이스캐너', '이혜원',\n",
       "       'ExpediaKR', '이동혁 건축가', 'UX 컨설턴트 전민수', '김진만', '김도현 뉴미디어 영어', '탐구토끼',\n",
       "       'EastRain', '자토', '최동석', 'Pen 잡은 루이스', '서울문화재단', '양준철', '정희',\n",
       "       '퀘벤하운', 'yoong', 'wanderer', '그로잉맘', '김민수', 'HONA', '일상담소 이대표',\n",
       "       '혜윰', '솔군 이제는 큼이아빠', 'DieM', '호밀밭의 사기꾼', '김관', '온유', '홍준호', '최윤섭',\n",
       "       'Toriteller', '보통마케터 안병민 대표', '게으름뱅이 독서가', '미스 페니', '인터파크 북DB',\n",
       "       '이동영 작가의 글쓰기', '영화 읽어주는 남자', '임지훈 Jimmy Rim', '티몬 크리에이티브센터', '이용현',\n",
       "       'picture', '김덕성', '정순훈', '생각창고', '오늘', '홍순성', 'DO YOU', '새벽 세시',\n",
       "       '빛보영', '전승환', 'Special Mind Director', '혜성', '연분도련', 'mumu', '텐바디',\n",
       "       'two tone', '이끼마우스', '장진천', '쓰는 게 좋은 한량', '너굴양', '노크노크', '뚠즈의 일상낙서',\n",
       "       '기타치는 사진가', '오인숙', '피기스트', '전명진 Myung Jin JUN', 'Jake Kim', '짱카피',\n",
       "       '김성운', '청년창업연구소 정명훈', '이서준', '와이**', '양평김한량', '도서관에 사는 남자', '장명진',\n",
       "       '카페에서 책 읽기', '리하', 'hanna', '마르코', 'lookfar'], dtype=object)"
      ]
     },
     "execution_count": 4,
     "metadata": {},
     "output_type": "execute_result"
    }
   ],
   "source": [
    "top_df = df[df[\"follower_count\"] > 5000].sort_values(\"follower_count\", ascending=False).iloc[1:,]\n",
    "top_df[\"username\"].values"
   ]
  },
  {
   "cell_type": "code",
   "execution_count": 5,
   "metadata": {},
   "outputs": [
    {
     "data": {
      "text/html": [
       "<div>\n",
       "<style>\n",
       "    .dataframe thead tr:only-child th {\n",
       "        text-align: right;\n",
       "    }\n",
       "\n",
       "    .dataframe thead th {\n",
       "        text-align: left;\n",
       "    }\n",
       "\n",
       "    .dataframe tbody tr th {\n",
       "        vertical-align: top;\n",
       "    }\n",
       "</style>\n",
       "<table border=\"1\" class=\"dataframe\">\n",
       "  <thead>\n",
       "    <tr style=\"text-align: right;\">\n",
       "      <th></th>\n",
       "      <th>count</th>\n",
       "      <th>follower_count</th>\n",
       "      <th>writer_count</th>\n",
       "      <th>article_count</th>\n",
       "    </tr>\n",
       "  </thead>\n",
       "  <tbody>\n",
       "    <tr>\n",
       "      <th>count</th>\n",
       "      <td>162.000000</td>\n",
       "      <td>162.00000</td>\n",
       "      <td>162.000000</td>\n",
       "      <td>162.000000</td>\n",
       "    </tr>\n",
       "    <tr>\n",
       "      <th>mean</th>\n",
       "      <td>456.475309</td>\n",
       "      <td>7589.04321</td>\n",
       "      <td>149.654321</td>\n",
       "      <td>165.944444</td>\n",
       "    </tr>\n",
       "    <tr>\n",
       "      <th>std</th>\n",
       "      <td>411.724192</td>\n",
       "      <td>2527.17562</td>\n",
       "      <td>767.096521</td>\n",
       "      <td>223.593277</td>\n",
       "    </tr>\n",
       "    <tr>\n",
       "      <th>min</th>\n",
       "      <td>71.000000</td>\n",
       "      <td>5010.00000</td>\n",
       "      <td>0.000000</td>\n",
       "      <td>8.000000</td>\n",
       "    </tr>\n",
       "    <tr>\n",
       "      <th>25%</th>\n",
       "      <td>297.250000</td>\n",
       "      <td>5752.00000</td>\n",
       "      <td>8.000000</td>\n",
       "      <td>55.250000</td>\n",
       "    </tr>\n",
       "    <tr>\n",
       "      <th>50%</th>\n",
       "      <td>404.500000</td>\n",
       "      <td>6818.00000</td>\n",
       "      <td>25.000000</td>\n",
       "      <td>113.500000</td>\n",
       "    </tr>\n",
       "    <tr>\n",
       "      <th>75%</th>\n",
       "      <td>525.000000</td>\n",
       "      <td>8573.25000</td>\n",
       "      <td>60.000000</td>\n",
       "      <td>189.750000</td>\n",
       "    </tr>\n",
       "    <tr>\n",
       "      <th>max</th>\n",
       "      <td>5009.000000</td>\n",
       "      <td>22154.00000</td>\n",
       "      <td>9084.000000</td>\n",
       "      <td>1747.000000</td>\n",
       "    </tr>\n",
       "  </tbody>\n",
       "</table>\n",
       "</div>"
      ],
      "text/plain": [
       "             count  follower_count  writer_count  article_count\n",
       "count   162.000000       162.00000    162.000000     162.000000\n",
       "mean    456.475309      7589.04321    149.654321     165.944444\n",
       "std     411.724192      2527.17562    767.096521     223.593277\n",
       "min      71.000000      5010.00000      0.000000       8.000000\n",
       "25%     297.250000      5752.00000      8.000000      55.250000\n",
       "50%     404.500000      6818.00000     25.000000     113.500000\n",
       "75%     525.000000      8573.25000     60.000000     189.750000\n",
       "max    5009.000000     22154.00000   9084.000000    1747.000000"
      ]
     },
     "execution_count": 5,
     "metadata": {},
     "output_type": "execute_result"
    }
   ],
   "source": [
    "top_df.describe()"
   ]
  },
  {
   "cell_type": "code",
   "execution_count": 6,
   "metadata": {},
   "outputs": [
    {
     "data": {
      "text/html": [
       "<div>\n",
       "<style>\n",
       "    .dataframe thead tr:only-child th {\n",
       "        text-align: right;\n",
       "    }\n",
       "\n",
       "    .dataframe thead th {\n",
       "        text-align: left;\n",
       "    }\n",
       "\n",
       "    .dataframe tbody tr th {\n",
       "        vertical-align: top;\n",
       "    }\n",
       "</style>\n",
       "<table border=\"1\" class=\"dataframe\">\n",
       "  <thead>\n",
       "    <tr style=\"text-align: right;\">\n",
       "      <th></th>\n",
       "      <th>profile_id</th>\n",
       "      <th>count</th>\n",
       "      <th>user_id</th>\n",
       "      <th>username</th>\n",
       "      <th>follower_count</th>\n",
       "      <th>writer_count</th>\n",
       "      <th>article_count</th>\n",
       "    </tr>\n",
       "  </thead>\n",
       "  <tbody>\n",
       "    <tr>\n",
       "      <th>552</th>\n",
       "      <td>thespringtocome</td>\n",
       "      <td>71</td>\n",
       "      <td>RqM</td>\n",
       "      <td>오늘</td>\n",
       "      <td>5692</td>\n",
       "      <td>1</td>\n",
       "      <td>8</td>\n",
       "    </tr>\n",
       "    <tr>\n",
       "      <th>1732</th>\n",
       "      <td>kimkwan</td>\n",
       "      <td>172</td>\n",
       "      <td>2zw</td>\n",
       "      <td>김관</td>\n",
       "      <td>6105</td>\n",
       "      <td>20</td>\n",
       "      <td>11</td>\n",
       "    </tr>\n",
       "    <tr>\n",
       "      <th>1218</th>\n",
       "      <td>yoonhanna</td>\n",
       "      <td>245</td>\n",
       "      <td>3u4</td>\n",
       "      <td>hanna</td>\n",
       "      <td>5023</td>\n",
       "      <td>63</td>\n",
       "      <td>12</td>\n",
       "    </tr>\n",
       "    <tr>\n",
       "      <th>544</th>\n",
       "      <td>2kija</td>\n",
       "      <td>437</td>\n",
       "      <td>6i4</td>\n",
       "      <td>이기주작가</td>\n",
       "      <td>7300</td>\n",
       "      <td>8</td>\n",
       "      <td>13</td>\n",
       "    </tr>\n",
       "    <tr>\n",
       "      <th>248</th>\n",
       "      <td>gzerof</td>\n",
       "      <td>369</td>\n",
       "      <td>xYA</td>\n",
       "      <td>홍준호</td>\n",
       "      <td>6086</td>\n",
       "      <td>51</td>\n",
       "      <td>14</td>\n",
       "    </tr>\n",
       "  </tbody>\n",
       "</table>\n",
       "</div>"
      ],
      "text/plain": [
       "           profile_id  count user_id username  follower_count  writer_count  \\\n",
       "552   thespringtocome     71     RqM       오늘            5692             1   \n",
       "1732          kimkwan    172     2zw       김관            6105            20   \n",
       "1218        yoonhanna    245     3u4    hanna            5023            63   \n",
       "544             2kija    437     6i4    이기주작가            7300             8   \n",
       "248            gzerof    369     xYA      홍준호            6086            51   \n",
       "\n",
       "      article_count  \n",
       "552               8  \n",
       "1732             11  \n",
       "1218             12  \n",
       "544              13  \n",
       "248              14  "
      ]
     },
     "execution_count": 6,
     "metadata": {},
     "output_type": "execute_result"
    }
   ],
   "source": [
    "top_df.sort_values(\"article_count\").head()"
   ]
  },
  {
   "cell_type": "code",
   "execution_count": 7,
   "metadata": {},
   "outputs": [
    {
     "data": {
      "text/html": [
       "<div>\n",
       "<style>\n",
       "    .dataframe thead tr:only-child th {\n",
       "        text-align: right;\n",
       "    }\n",
       "\n",
       "    .dataframe thead th {\n",
       "        text-align: left;\n",
       "    }\n",
       "\n",
       "    .dataframe tbody tr th {\n",
       "        vertical-align: top;\n",
       "    }\n",
       "</style>\n",
       "<table border=\"1\" class=\"dataframe\">\n",
       "  <thead>\n",
       "    <tr style=\"text-align: right;\">\n",
       "      <th></th>\n",
       "      <th>profile_id</th>\n",
       "      <th>count</th>\n",
       "      <th>user_id</th>\n",
       "      <th>username</th>\n",
       "      <th>follower_count</th>\n",
       "      <th>writer_count</th>\n",
       "      <th>article_count</th>\n",
       "    </tr>\n",
       "  </thead>\n",
       "  <tbody>\n",
       "    <tr>\n",
       "      <th>74</th>\n",
       "      <td>wikitree</td>\n",
       "      <td>545</td>\n",
       "      <td>Jp6</td>\n",
       "      <td>위키트리 WIKITREE</td>\n",
       "      <td>8775</td>\n",
       "      <td>1</td>\n",
       "      <td>1747</td>\n",
       "    </tr>\n",
       "    <tr>\n",
       "      <th>83</th>\n",
       "      <td>bookdb</td>\n",
       "      <td>522</td>\n",
       "      <td>ocv</td>\n",
       "      <td>인터파크 북DB</td>\n",
       "      <td>5947</td>\n",
       "      <td>1</td>\n",
       "      <td>1393</td>\n",
       "    </tr>\n",
       "    <tr>\n",
       "      <th>217</th>\n",
       "      <td>dong02</td>\n",
       "      <td>410</td>\n",
       "      <td>iDz</td>\n",
       "      <td>이동영 작가의 글쓰기</td>\n",
       "      <td>5940</td>\n",
       "      <td>15</td>\n",
       "      <td>1028</td>\n",
       "    </tr>\n",
       "    <tr>\n",
       "      <th>470</th>\n",
       "      <td>brunchflgu</td>\n",
       "      <td>806</td>\n",
       "      <td>oZ3</td>\n",
       "      <td>조우성 변호사</td>\n",
       "      <td>10606</td>\n",
       "      <td>46</td>\n",
       "      <td>992</td>\n",
       "    </tr>\n",
       "    <tr>\n",
       "      <th>573</th>\n",
       "      <td>hitchwill</td>\n",
       "      <td>465</td>\n",
       "      <td>3kT</td>\n",
       "      <td>나는 누군가</td>\n",
       "      <td>7250</td>\n",
       "      <td>6</td>\n",
       "      <td>866</td>\n",
       "    </tr>\n",
       "  </tbody>\n",
       "</table>\n",
       "</div>"
      ],
      "text/plain": [
       "     profile_id  count user_id       username  follower_count  writer_count  \\\n",
       "74     wikitree    545     Jp6  위키트리 WIKITREE            8775             1   \n",
       "83       bookdb    522     ocv       인터파크 북DB            5947             1   \n",
       "217      dong02    410     iDz    이동영 작가의 글쓰기            5940            15   \n",
       "470  brunchflgu    806     oZ3        조우성 변호사           10606            46   \n",
       "573   hitchwill    465     3kT         나는 누군가            7250             6   \n",
       "\n",
       "     article_count  \n",
       "74            1747  \n",
       "83            1393  \n",
       "217           1028  \n",
       "470            992  \n",
       "573            866  "
      ]
     },
     "execution_count": 7,
     "metadata": {},
     "output_type": "execute_result"
    }
   ],
   "source": [
    "top_df.sort_values(\"article_count\", ascending=False).head()"
   ]
  },
  {
   "cell_type": "code",
   "execution_count": 8,
   "metadata": {},
   "outputs": [
    {
     "data": {
      "text/plain": [
       "-0.05407113062275383"
      ]
     },
     "execution_count": 8,
     "metadata": {},
     "output_type": "execute_result"
    }
   ],
   "source": [
    "np.corrcoef(top_df[\"follower_count\"], top_df[\"writer_count\"])[0, 1]"
   ]
  },
  {
   "cell_type": "code",
   "execution_count": 9,
   "metadata": {},
   "outputs": [
    {
     "data": {
      "text/plain": [
       "0.079968862893865525"
      ]
     },
     "execution_count": 9,
     "metadata": {},
     "output_type": "execute_result"
    }
   ],
   "source": [
    "np.corrcoef(top_df[\"follower_count\"], top_df[\"article_count\"])[0, 1]"
   ]
  },
  {
   "cell_type": "code",
   "execution_count": 10,
   "metadata": {},
   "outputs": [
    {
     "data": {
      "text/plain": [
       "<matplotlib.axes._subplots.AxesSubplot at 0x1030bc5f8>"
      ]
     },
     "execution_count": 10,
     "metadata": {},
     "output_type": "execute_result"
    },
    {
     "data": {
      "image/png": "[encoded data removed]",
      "text/plain": [
       "<matplotlib.figure.Figure at 0x1063759b0>"
      ]
     },
     "metadata": {},
     "output_type": "display_data"
    }
   ],
   "source": [
    "top_df.plot(kind=\"scatter\", x=\"article_count\", y=\"follower_count\")"
   ]
  },
  {
   "cell_type": "markdown",
   "metadata": {},
   "source": [
    "## The articles whose writer has 5000+ followers"
   ]
  },
  {
   "cell_type": "markdown",
   "metadata": {},
   "source": [
    "### The relation between SNS share count and like count\n",
    "\n",
    "- These two factors are strongly related\n",
    "- Sharing numbers are much bigger than like counts"
   ]
  },
  {
   "cell_type": "code",
   "execution_count": 11,
   "metadata": {},
   "outputs": [],
   "source": [
    "top_articles = get_article_df_by_writers(top_df[\"profile_id\"].values)\n",
    "top_articles_cleaned = top_articles.drop([\n",
    "    \"articleCoverColorForHome\", \"magazineArticleId\", \"coverColor\", \"contentId\", \"magazineNo\", \n",
    "    \"magazineType\", \"ip\", \"readSeconds\", \"pick\", \"userId\", \"sharedFacebookComment\", \"status\"], 1)\n",
    "parse_datetime(top_articles_cleaned, fields=[\"createTime\", \"publishTime\", \"updateTime\"])"
   ]
  },
  {
   "cell_type": "code",
   "execution_count": 12,
   "metadata": {},
   "outputs": [
    {
     "data": {
      "text/plain": [
       "0.51849899507926045"
      ]
     },
     "execution_count": 12,
     "metadata": {},
     "output_type": "execute_result"
    }
   ],
   "source": [
    "np.corrcoef(top_articles_cleaned[\"socialShareTotalCount\"], top_articles_cleaned[\"likeCount\"])[0, 1]"
   ]
  },
  {
   "cell_type": "code",
   "execution_count": 13,
   "metadata": {},
   "outputs": [
    {
     "data": {
      "text/html": [
       "<div>\n",
       "<style>\n",
       "    .dataframe thead tr:only-child th {\n",
       "        text-align: right;\n",
       "    }\n",
       "\n",
       "    .dataframe thead th {\n",
       "        text-align: left;\n",
       "    }\n",
       "\n",
       "    .dataframe tbody tr th {\n",
       "        vertical-align: top;\n",
       "    }\n",
       "</style>\n",
       "<table border=\"1\" class=\"dataframe\">\n",
       "  <thead>\n",
       "    <tr style=\"text-align: right;\">\n",
       "      <th></th>\n",
       "      <th>no</th>\n",
       "      <th>profileId</th>\n",
       "      <th>publishTime</th>\n",
       "      <th>socialShareTotalCount</th>\n",
       "      <th>subTitle</th>\n",
       "      <th>title</th>\n",
       "    </tr>\n",
       "  </thead>\n",
       "  <tbody>\n",
       "    <tr>\n",
       "      <th>148</th>\n",
       "      <td>73</td>\n",
       "      <td>stillalive31</td>\n",
       "      <td>2015-08-11 14:35:54</td>\n",
       "      <td>61234</td>\n",
       "      <td>반드시 피해야 할 지극히 나쁜 언행, 6천(賤)</td>\n",
       "      <td>#72 복을 내쫓고 화를 부르는 여섯 가지 천한 습관</td>\n",
       "    </tr>\n",
       "    <tr>\n",
       "      <th>34</th>\n",
       "      <td>389</td>\n",
       "      <td>jade</td>\n",
       "      <td>2016-08-24 10:59:21</td>\n",
       "      <td>55222</td>\n",
       "      <td>NaN</td>\n",
       "      <td>잠시 생각해 볼만한 그림들</td>\n",
       "    </tr>\n",
       "    <tr>\n",
       "      <th>294</th>\n",
       "      <td>35</td>\n",
       "      <td>sunsutu</td>\n",
       "      <td>2016-01-26 16:24:01</td>\n",
       "      <td>31780</td>\n",
       "      <td>전원주택 공사 시공 편</td>\n",
       "      <td>집 짓는 순서? 이것만 알아도 반은 성공.</td>\n",
       "    </tr>\n",
       "    <tr>\n",
       "      <th>669</th>\n",
       "      <td>202</td>\n",
       "      <td>brunchflgu</td>\n",
       "      <td>2015-10-08 17:49:01</td>\n",
       "      <td>25334</td>\n",
       "      <td>조우성 변호사의 비즈니스 인사이트</td>\n",
       "      <td>성과는 좋지만 성품이 나쁜 직원은 포기하겠다</td>\n",
       "    </tr>\n",
       "    <tr>\n",
       "      <th>47</th>\n",
       "      <td>27</td>\n",
       "      <td>suhanjang</td>\n",
       "      <td>2015-09-25 11:06:47</td>\n",
       "      <td>25087</td>\n",
       "      <td>NaN</td>\n",
       "      <td>12. 인간의 시간, 회사의 시간</td>\n",
       "    </tr>\n",
       "  </tbody>\n",
       "</table>\n",
       "</div>"
      ],
      "text/plain": [
       "      no     profileId         publishTime  socialShareTotalCount  \\\n",
       "148   73  stillalive31 2015-08-11 14:35:54                  61234   \n",
       "34   389          jade 2016-08-24 10:59:21                  55222   \n",
       "294   35       sunsutu 2016-01-26 16:24:01                  31780   \n",
       "669  202    brunchflgu 2015-10-08 17:49:01                  25334   \n",
       "47    27     suhanjang 2015-09-25 11:06:47                  25087   \n",
       "\n",
       "                       subTitle                          title  \n",
       "148  반드시 피해야 할 지극히 나쁜 언행, 6천(賤)  #72 복을 내쫓고 화를 부르는 여섯 가지 천한 습관  \n",
       "34                          NaN                 잠시 생각해 볼만한 그림들  \n",
       "294                전원주택 공사 시공 편        집 짓는 순서? 이것만 알아도 반은 성공.  \n",
       "669          조우성 변호사의 비즈니스 인사이트       성과는 좋지만 성품이 나쁜 직원은 포기하겠다  \n",
       "47                          NaN             12. 인간의 시간, 회사의 시간  "
      ]
     },
     "execution_count": 13,
     "metadata": {},
     "output_type": "execute_result"
    }
   ],
   "source": [
    "top_articles_cleaned.sort_values(\"socialShareTotalCount\", ascending=False).iloc[:5, 6:12]"
   ]
  },
  {
   "cell_type": "code",
   "execution_count": 14,
   "metadata": {},
   "outputs": [
    {
     "data": {
      "text/html": [
       "<div>\n",
       "<style>\n",
       "    .dataframe thead tr:only-child th {\n",
       "        text-align: right;\n",
       "    }\n",
       "\n",
       "    .dataframe thead th {\n",
       "        text-align: left;\n",
       "    }\n",
       "\n",
       "    .dataframe tbody tr th {\n",
       "        vertical-align: top;\n",
       "    }\n",
       "</style>\n",
       "<table border=\"1\" class=\"dataframe\">\n",
       "  <thead>\n",
       "    <tr style=\"text-align: right;\">\n",
       "      <th></th>\n",
       "      <th>likeCount</th>\n",
       "      <th>no</th>\n",
       "      <th>profileId</th>\n",
       "      <th>publishTime</th>\n",
       "      <th>subTitle</th>\n",
       "      <th>title</th>\n",
       "    </tr>\n",
       "  </thead>\n",
       "  <tbody>\n",
       "    <tr>\n",
       "      <th>34</th>\n",
       "      <td>734</td>\n",
       "      <td>389</td>\n",
       "      <td>jade</td>\n",
       "      <td>2016-08-24 10:59:21</td>\n",
       "      <td>NaN</td>\n",
       "      <td>잠시 생각해 볼만한 그림들</td>\n",
       "    </tr>\n",
       "    <tr>\n",
       "      <th>130</th>\n",
       "      <td>699</td>\n",
       "      <td>44</td>\n",
       "      <td>lunarshore</td>\n",
       "      <td>2016-03-14 05:45:39</td>\n",
       "      <td>차별화 전략을 잃어버린 브랜드가 망가지는 수순</td>\n",
       "      <td>브랜드가 망가지는 9단계</td>\n",
       "    </tr>\n",
       "    <tr>\n",
       "      <th>60</th>\n",
       "      <td>696</td>\n",
       "      <td>12</td>\n",
       "      <td>haneulalice</td>\n",
       "      <td>2015-11-12 00:55:51</td>\n",
       "      <td>저녁이 없는 삶은 누가 만든걸까요?</td>\n",
       "      <td>당신의 이직을 바랍니다</td>\n",
       "    </tr>\n",
       "    <tr>\n",
       "      <th>21</th>\n",
       "      <td>668</td>\n",
       "      <td>68</td>\n",
       "      <td>dohyunkim</td>\n",
       "      <td>2016-01-12 17:54:08</td>\n",
       "      <td>TED 해설강의 by NYU 유학생</td>\n",
       "      <td>6개월만에 영어를 마스터 하는 것이 가능할까?</td>\n",
       "    </tr>\n",
       "    <tr>\n",
       "      <th>96</th>\n",
       "      <td>658</td>\n",
       "      <td>264</td>\n",
       "      <td>jade</td>\n",
       "      <td>2016-03-28 12:05:35</td>\n",
       "      <td>NaN</td>\n",
       "      <td>바쁜 사람과 유능한 사람의 12가지 차이</td>\n",
       "    </tr>\n",
       "  </tbody>\n",
       "</table>\n",
       "</div>"
      ],
      "text/plain": [
       "     likeCount   no    profileId         publishTime  \\\n",
       "34         734  389         jade 2016-08-24 10:59:21   \n",
       "130        699   44   lunarshore 2016-03-14 05:45:39   \n",
       "60         696   12  haneulalice 2015-11-12 00:55:51   \n",
       "21         668   68    dohyunkim 2016-01-12 17:54:08   \n",
       "96         658  264         jade 2016-03-28 12:05:35   \n",
       "\n",
       "                      subTitle                      title  \n",
       "34                         NaN             잠시 생각해 볼만한 그림들  \n",
       "130  차별화 전략을 잃어버린 브랜드가 망가지는 수순              브랜드가 망가지는 9단계  \n",
       "60         저녁이 없는 삶은 누가 만든걸까요?               당신의 이직을 바랍니다  \n",
       "21         TED 해설강의 by NYU 유학생  6개월만에 영어를 마스터 하는 것이 가능할까?  \n",
       "96                         NaN     바쁜 사람과 유능한 사람의 12가지 차이  "
      ]
     },
     "execution_count": 14,
     "metadata": {},
     "output_type": "execute_result"
    }
   ],
   "source": [
    "top_articles_cleaned \\\n",
    "    .drop([\"magazineAddress\", \"magazineTitle\", \"socialShareTotalCount\"], 1) \\\n",
    "    .sort_values(\"likeCount\", ascending=False).iloc[:5, 3:9]"
   ]
  },
  {
   "cell_type": "code",
   "execution_count": 15,
   "metadata": {},
   "outputs": [
    {
     "data": {
      "text/plain": [
       "<matplotlib.axes._subplots.AxesSubplot at 0x10715bb00>"
      ]
     },
     "execution_count": 15,
     "metadata": {},
     "output_type": "execute_result"
    },
    {
     "data": {
      "image/png": "[encoded data removed]",
      "text/plain": [
       "<matplotlib.figure.Figure at 0x106b65b70>"
      ]
     },
     "metadata": {},
     "output_type": "display_data"
    }
   ],
   "source": [
    "top_articles_cleaned[top_articles_cleaned[\"socialShareTotalCount\"] < 5000] \\\n",
    "    .plot(kind=\"scatter\", x=\"likeCount\", y=\"socialShareTotalCount\")"
   ]
  },
  {
   "cell_type": "markdown",
   "metadata": {},
   "source": [
    "### How are top articles?\n",
    "\n",
    "- The average of the number of images is 5.45, and the standard deviation is 8.46\n",
    "- The mean of comment, like, SNS share is 3.61, 11.66, 60.12"
   ]
  },
  {
   "cell_type": "code",
   "execution_count": 16,
   "metadata": {},
   "outputs": [
    {
     "data": {
      "text/html": [
       "<div>\n",
       "<style>\n",
       "    .dataframe thead tr:only-child th {\n",
       "        text-align: right;\n",
       "    }\n",
       "\n",
       "    .dataframe thead th {\n",
       "        text-align: left;\n",
       "    }\n",
       "\n",
       "    .dataframe tbody tr th {\n",
       "        vertical-align: top;\n",
       "    }\n",
       "</style>\n",
       "<table border=\"1\" class=\"dataframe\">\n",
       "  <thead>\n",
       "    <tr style=\"text-align: right;\">\n",
       "      <th></th>\n",
       "      <th>articleImageList</th>\n",
       "      <th>commentCount</th>\n",
       "      <th>likeCount</th>\n",
       "      <th>socialShareTotalCount</th>\n",
       "    </tr>\n",
       "  </thead>\n",
       "  <tbody>\n",
       "    <tr>\n",
       "      <th>count</th>\n",
       "      <td>26891.000000</td>\n",
       "      <td>26891.000000</td>\n",
       "      <td>26891.000000</td>\n",
       "      <td>26891.000000</td>\n",
       "    </tr>\n",
       "    <tr>\n",
       "      <th>mean</th>\n",
       "      <td>5.451006</td>\n",
       "      <td>3.610093</td>\n",
       "      <td>11.655238</td>\n",
       "      <td>60.121676</td>\n",
       "    </tr>\n",
       "    <tr>\n",
       "      <th>std</th>\n",
       "      <td>8.457590</td>\n",
       "      <td>8.765005</td>\n",
       "      <td>25.753824</td>\n",
       "      <td>690.119018</td>\n",
       "    </tr>\n",
       "    <tr>\n",
       "      <th>min</th>\n",
       "      <td>0.000000</td>\n",
       "      <td>0.000000</td>\n",
       "      <td>0.000000</td>\n",
       "      <td>0.000000</td>\n",
       "    </tr>\n",
       "    <tr>\n",
       "      <th>25%</th>\n",
       "      <td>1.000000</td>\n",
       "      <td>0.000000</td>\n",
       "      <td>2.000000</td>\n",
       "      <td>0.000000</td>\n",
       "    </tr>\n",
       "    <tr>\n",
       "      <th>50%</th>\n",
       "      <td>3.000000</td>\n",
       "      <td>1.000000</td>\n",
       "      <td>5.000000</td>\n",
       "      <td>2.000000</td>\n",
       "    </tr>\n",
       "    <tr>\n",
       "      <th>75%</th>\n",
       "      <td>6.000000</td>\n",
       "      <td>4.000000</td>\n",
       "      <td>12.000000</td>\n",
       "      <td>14.000000</td>\n",
       "    </tr>\n",
       "    <tr>\n",
       "      <th>max</th>\n",
       "      <td>147.000000</td>\n",
       "      <td>310.000000</td>\n",
       "      <td>734.000000</td>\n",
       "      <td>61234.000000</td>\n",
       "    </tr>\n",
       "  </tbody>\n",
       "</table>\n",
       "</div>"
      ],
      "text/plain": [
       "       articleImageList  commentCount     likeCount  socialShareTotalCount\n",
       "count      26891.000000  26891.000000  26891.000000           26891.000000\n",
       "mean           5.451006      3.610093     11.655238              60.121676\n",
       "std            8.457590      8.765005     25.753824             690.119018\n",
       "min            0.000000      0.000000      0.000000               0.000000\n",
       "25%            1.000000      0.000000      2.000000               0.000000\n",
       "50%            3.000000      1.000000      5.000000               2.000000\n",
       "75%            6.000000      4.000000     12.000000              14.000000\n",
       "max          147.000000    310.000000    734.000000           61234.000000"
      ]
     },
     "execution_count": 16,
     "metadata": {},
     "output_type": "execute_result"
    }
   ],
   "source": [
    "top_articles_cleaned.drop([\"no\"], 1).describe()"
   ]
  },
  {
   "cell_type": "markdown",
   "metadata": {},
   "source": [
    "### How they write?\n",
    "\n",
    "- The total number of articles of writers with 5000+ followers is gradually increasing\n",
    "- 98% of them started writing on Brunch before March 2016"
   ]
  },
  {
   "cell_type": "code",
   "execution_count": 17,
   "metadata": {},
   "outputs": [
    {
     "data": {
      "text/plain": [
       "<matplotlib.axes._subplots.AxesSubplot at 0x107766860>"
      ]
     },
     "execution_count": 17,
     "metadata": {},
     "output_type": "execute_result"
    },
    {
     "data": {
      "image/png": "[encoded data removed]",
      "text/plain": [
       "<matplotlib.figure.Figure at 0x107437c50>"
      ]
     },
     "metadata": {},
     "output_type": "display_data"
    }
   ],
   "source": [
    "top_articles_cleaned = top_articles_cleaned.sort_values(\"createTime\", ascending=True)\n",
    "top_articles_cleaned[\"default\"] = 1\n",
    "top_articles_cleaned[\"accumCount\"] = top_articles_cleaned[\"default\"].cumsum()\n",
    "top_articles_cleaned.plot(x=\"createTime\", y=\"accumCount\")"
   ]
  },
  {
   "cell_type": "code",
   "execution_count": 18,
   "metadata": {},
   "outputs": [
    {
     "data": {
      "text/plain": [
       "<matplotlib.axes._subplots.AxesSubplot at 0x107ac11d0>"
      ]
     },
     "execution_count": 18,
     "metadata": {},
     "output_type": "execute_result"
    },
    {
     "data": {
      "image/png": "[encoded data removed]",
      "text/plain": [
       "<matplotlib.figure.Figure at 0x107789e10>"
      ]
     },
     "metadata": {},
     "output_type": "display_data"
    }
   ],
   "source": [
    "unique_top_writers = top_df[\"profile_id\"].unique()\n",
    "top_first_article_time = pd.DataFrame(\n",
    "    [top_articles_cleaned[top_articles_cleaned[\"profileId\"] == writer].iloc[0][\"createTime\"]\n",
    "     for writer in unique_top_writers],\n",
    "    columns=[\"time\"]\n",
    ")\n",
    "top_first_article_time = top_first_article_time.sort_values(\"time\")\n",
    "top_first_article_time[\"default\"] = 1\n",
    "top_first_article_time[\"accumCount\"] = top_first_article_time[\"default\"].cumsum()\n",
    "top_first_article_time.plot(x=\"time\", y=\"accumCount\")"
   ]
  },
  {
   "cell_type": "code",
   "execution_count": 19,
   "metadata": {},
   "outputs": [
    {
     "data": {
      "text/plain": [
       "<matplotlib.axes._subplots.AxesSubplot at 0x1077669e8>"
      ]
     },
     "execution_count": 19,
     "metadata": {},
     "output_type": "execute_result"
    },
    {
     "data": {
      "image/png": "[encoded data removed]",
      "text/plain": [
       "<matplotlib.figure.Figure at 0x103138da0>"
      ]
     },
     "metadata": {},
     "output_type": "display_data"
    }
   ],
   "source": [
    "def find_writer_count_of_lastest_time(time:pd.datetime) -> int:\n",
    "    result_values = top_first_article_time[top_first_article_time[\"time\"] < time][\"accumCount\"].values\n",
    "    if len(result_values) == 0:\n",
    "        return 1\n",
    "    return result_values[-1]\n",
    "top_articles_cleaned[\"accumCountPerWriter\"] = \\\n",
    "    top_articles_cleaned[\"accumCount\"] / top_articles_cleaned[\"createTime\"].apply(find_writer_count_of_lastest_time)\n",
    "top_articles_cleaned.plot(x=\"createTime\", y=\"accumCountPerWriter\")"
   ]
  },
  {
   "cell_type": "code",
   "execution_count": 20,
   "metadata": {},
   "outputs": [
    {
     "data": {
      "text/html": [
       "<div>\n",
       "<style>\n",
       "    .dataframe thead tr:only-child th {\n",
       "        text-align: right;\n",
       "    }\n",
       "\n",
       "    .dataframe thead th {\n",
       "        text-align: left;\n",
       "    }\n",
       "\n",
       "    .dataframe tbody tr th {\n",
       "        vertical-align: top;\n",
       "    }\n",
       "</style>\n",
       "<table border=\"1\" class=\"dataframe\">\n",
       "  <thead>\n",
       "    <tr style=\"text-align: right;\">\n",
       "      <th></th>\n",
       "      <th>createTime</th>\n",
       "      <th>description</th>\n",
       "      <th>followerCount</th>\n",
       "      <th>profileId</th>\n",
       "      <th>userName</th>\n",
       "      <th>writerCount</th>\n",
       "    </tr>\n",
       "  </thead>\n",
       "  <tbody>\n",
       "    <tr>\n",
       "      <th>0</th>\n",
       "      <td>2017-08-24 08:04:50</td>\n",
       "      <td>MAGARETT의 브런치입니다.</td>\n",
       "      <td>0</td>\n",
       "      <td>megan-yoon</td>\n",
       "      <td>MAGARETT</td>\n",
       "      <td>48</td>\n",
       "    </tr>\n",
       "    <tr>\n",
       "      <th>1</th>\n",
       "      <td>2017-08-24 07:29:31</td>\n",
       "      <td>구구의 브런치입니다.</td>\n",
       "      <td>0</td>\n",
       "      <td>jungulism</td>\n",
       "      <td>구구</td>\n",
       "      <td>8</td>\n",
       "    </tr>\n",
       "    <tr>\n",
       "      <th>2</th>\n",
       "      <td>2017-08-24 07:28:40</td>\n",
       "      <td>김보람의 브런치입니다.</td>\n",
       "      <td>0</td>\n",
       "      <td>kimboroam</td>\n",
       "      <td>김보람</td>\n",
       "      <td>2</td>\n",
       "    </tr>\n",
       "    <tr>\n",
       "      <th>3</th>\n",
       "      <td>2017-08-24 06:59:06</td>\n",
       "      <td>한수연의 브런치입니다.</td>\n",
       "      <td>1</td>\n",
       "      <td>nownhere23</td>\n",
       "      <td>한수연</td>\n",
       "      <td>50</td>\n",
       "    </tr>\n",
       "    <tr>\n",
       "      <th>4</th>\n",
       "      <td>2017-08-24 06:52:07</td>\n",
       "      <td>풍꼬의 브런치입니다.</td>\n",
       "      <td>0</td>\n",
       "      <td>ljk4936</td>\n",
       "      <td>풍꼬</td>\n",
       "      <td>159</td>\n",
       "    </tr>\n",
       "  </tbody>\n",
       "</table>\n",
       "</div>"
      ],
      "text/plain": [
       "           createTime        description  followerCount   profileId  userName  \\\n",
       "0 2017-08-24 08:04:50  MAGARETT의 브런치입니다.              0  megan-yoon  MAGARETT   \n",
       "1 2017-08-24 07:29:31        구구의 브런치입니다.              0   jungulism        구구   \n",
       "2 2017-08-24 07:28:40       김보람의 브런치입니다.              0   kimboroam       김보람   \n",
       "3 2017-08-24 06:59:06       한수연의 브런치입니다.              1  nownhere23       한수연   \n",
       "4 2017-08-24 06:52:07        풍꼬의 브런치입니다.              0     ljk4936        풍꼬   \n",
       "\n",
       "   writerCount  \n",
       "0           48  \n",
       "1            8  \n",
       "2            2  \n",
       "3           50  \n",
       "4          159  "
      ]
     },
     "execution_count": 20,
     "metadata": {},
     "output_type": "execute_result"
    }
   ],
   "source": [
    "top_followers = get_follower_df_by_writers(top_df[\"profile_id\"].values)\n",
    "top_followers_cleaned = top_followers.drop([\"articleCount\", \"userId\", \"myFollower\", \"myWriter\", \"subscribeNo\"], 1)\n",
    "parse_datetime(top_followers_cleaned, fields=[\"createTime\"])\n",
    "top_followers_cleaned.head()"
   ]
  },
  {
   "cell_type": "markdown",
   "metadata": {},
   "source": [
    "### Tricky growth of Brunch\n",
    "\n",
    "- What did happen in May 2016?\n",
    "- The figure below includes duplicate followers of writers\n",
    "- The number of fans on 30 April 2016 is 4.28 times more than the one on 31 March 2016\n",
    "- This steep growth was affected by a marketing campaign, in which Kakao, the service provider, gave free promotional Kakaotalk emoticons"
   ]
  },
  {
   "cell_type": "code",
   "execution_count": 21,
   "metadata": {},
   "outputs": [
    {
     "data": {
      "text/plain": [
       "<matplotlib.axes._subplots.AxesSubplot at 0x118e89240>"
      ]
     },
     "execution_count": 21,
     "metadata": {},
     "output_type": "execute_result"
    },
    {
     "data": {
      "image/png": "[encoded data removed]",
      "text/plain": [
       "<matplotlib.figure.Figure at 0x112489e10>"
      ]
     },
     "metadata": {},
     "output_type": "display_data"
    }
   ],
   "source": [
    "top_followers_cleaned = top_followers_cleaned.sort_values(\"createTime\", ascending=True)\n",
    "top_followers_cleaned[\"default\"] = 1\n",
    "top_followers_cleaned[\"accumCount\"] = top_followers_cleaned[\"default\"].cumsum()\n",
    "top_followers_cleaned.plot(x=\"createTime\", y=\"accumCount\")"
   ]
  },
  {
   "cell_type": "markdown",
   "metadata": {},
   "source": [
    "### For fun : The authors who the writers with 5000+ followers like most"
   ]
  },
  {
   "cell_type": "code",
   "execution_count": 22,
   "metadata": {},
   "outputs": [
    {
     "data": {
      "text/plain": [
       "hyejinchoi      45\n",
       "daljasee        44\n",
       "kooning11       40\n",
       "suhanjang       37\n",
       "blade31         33\n",
       "romanticgrey    32\n",
       "2kija           32\n",
       "dalda           31\n",
       "onec            31\n",
       "eastgo          31\n",
       "sustainlife     30\n",
       "jimmyrim        30\n",
       "Name: profileId, dtype: int64"
      ]
     },
     "execution_count": 22,
     "metadata": {},
     "output_type": "execute_result"
    }
   ],
   "source": [
    "top_followings = get_following_df_by_writers(top_df[\"profile_id\"].values)\n",
    "top_followings_cleaned = top_followings.drop([\"articleCount\", \"userId\", \"myFollower\", \"myWriter\", \"subscribeNo\"], 1)\n",
    "parse_datetime(top_followings_cleaned, fields=[\"createTime\"])\n",
    "top_followings_cleaned[\"profileId\"].value_counts()[1:13]"
   ]
  },
  {
   "cell_type": "markdown",
   "metadata": {},
   "source": [
    "# Conclusion\n",
    "\n",
    "- The number of writers with over 5000 followers is 162 \n",
    "- The correlation between article count and follower count is low, which does not encourage authors to write more articles\n",
    "- The user engagement of Brunch is focused on the share of SNS\n",
    "- There was a strong marketing campaign on April 2016\n",
    "\n",
    "## Limitation of this study\n",
    "\n",
    "- It is not examined if the Kakaotalk marketing campaign helped the growth of Brunch\n",
    "- To figure it out, the active user data should be backed up "
   ]
  }
 ],
 "metadata": {
  "kernelspec": {
   "display_name": "Python 3",
   "language": "python",
   "name": "python3"
  },
  "language_info": {
   "codemirror_mode": {
    "name": "ipython",
    "version": 3
   },
   "file_extension": ".py",
   "mimetype": "text/x-python",
   "name": "python",
   "nbconvert_exporter": "python",
   "pygments_lexer": "ipython3",
   "version": "3.6.1"
  }
 },
 "nbformat": 4,
 "nbformat_minor": 2
}
